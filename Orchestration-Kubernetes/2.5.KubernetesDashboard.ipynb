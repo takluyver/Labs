{
 "cells": [
  {
   "cell_type": "markdown",
   "metadata": {},
   "source": [
    "# The Kubernetes Dashboard UI\n",
    "\n",
    "Kubernetes comes with a dashboard service providing a fairly comprehensive UI to be able to examine the status of the cluster and it's components as well as launching new Pods, Deployments etc.\n",
    "\n",
    "<strong>Test</strong>\n",
    "\n",
    "<img src=\"images/k8s-dashboard.png\">\n",
    "\n",
    "![](images/k8s-dashboard.png)\n",
    "\n",
    "### Accessing the dashboard\n",
    "\n",
    "In this lab a script is provided to connect to your cluster via ssh, as described earlier.\n",
    "\n",
    "We will now run this script with option '-pf' to setup port forwarding to be able to access your dashboard running in a VM in the cloud.\n",
    "\n",
    "If you are using group2 machine then run ssh.sh as follows\n",
    "\n",
    "    kubelab-v19-G1/ssh.sh -pf\n",
    "    \n",
    "Whilst you keep this script running, the dashboard port will be tunneled over your local port 7777.\n",
    "\n",
    "You can now access the dashboard at:\n",
    "\n",
    "\n",
    "http://localhost:7777/api/v1/namespaces/kube-system/services/kubernetes-dashboard/proxy/#!/namespace?namespace=default\n",
    "\n",
    "You should see that several namespaces are available, but only kube-system currently contains any running pods and other entities.\n",
    "\n",
    "Later we will create pods and other entities within the default namespace, but for now we will just investigate the kube-system namespace.\n",
    "\n",
    "To do this select kube-system in the namespace drop-down box, you should now see:\n",
    "\n",
    "\n",
    "<img align=\"left\" src=\"images/k8s-dashboard-namespace.png\" width=200 >\n",
    "\n",
    "![](images/k8s-dashboard-namespace.png)\n",
    "\n",
    "<br/><br/><br/><br/><br/><br/><br/><br/>\n",
    "<br/><br/><br/><br/><br/><br/><br/><br/>\n",
    "\n",
    "Now investigate by looking at Workloads, Services, Storage and Config elements.\n",
    "\n",
    "\n",
    "\n",
    "# Dashboard documentation\n",
    "\n",
    "You can read more about the Dashboard [HERE](https://kubernetes.io/docs/tasks/access-application-cluster/web-ui-dashboard/)\n"
   ]
  }
 ],
 "metadata": {
  "kernelspec": {
   "display_name": "Bash",
   "language": "bash",
   "name": "bash"
  },
  "language_info": {
   "codemirror_mode": "shell",
   "file_extension": ".sh",
   "mimetype": "text/x-sh",
   "name": "bash"
  }
 },
 "nbformat": 4,
 "nbformat_minor": 2
}
